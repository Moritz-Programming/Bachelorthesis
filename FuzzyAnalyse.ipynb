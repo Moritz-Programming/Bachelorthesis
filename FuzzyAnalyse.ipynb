{
 "cells": [
  {
   "cell_type": "code",
   "execution_count": 1,
   "metadata": {},
   "outputs": [
    {
     "name": "stdout",
     "output_type": "stream",
     "text": [
      "habibitus\n",
      "bi_ferhatunvar\n"
     ]
    }
   ],
   "source": [
    "#FLSA topic test\n",
    "import csv\n",
    "from FuzzyTM import FLSA_W\n",
    "from FuzzyTM import FLSA\n",
    "import os\n",
    "Liste= Liste = [\"NamenderAccounts\"]\n",
    "topicnumberflsa= [10 , 75]\n",
    "topicnumberflsaw =[50]\n",
    "output_file= r\"PfadderTopicspeicherung\"\n",
    "i=0\n",
    "k=0\n",
    "\n",
    "while i < len(Liste):\n",
    "    try:\n",
    "        startpath= r\"PfadallerDateien\"\"\n",
    "        middlepath= os.path.join(startpath, Liste[i])\n",
    "        input_file= os.path.join(middlepath, \"BildunterschriftenSauber.csv\")\n",
    "        with open(input_file, \"r\", encoding=\"utf-8\") as input1, \\\n",
    "            open(output_file, \"a\", encoding=\"utf-8\", newline=\"\") as output1:\n",
    "            reader= csv.reader(input1)\n",
    "            writer= csv.writer(output1)\n",
    "            writer.writerow(Liste[i])\n",
    "            data = list(reader)\n",
    "            while k < len(topicnumberflsa):\n",
    "                flsa = FLSA(input_file = data, num_topics=topicnumberflsa[k], num_words=20, word_weighting= \"entropy\")\n",
    "                pwgt, ptgd=flsa.get_matrices()\n",
    "                topic= flsa.show_topics(representation=\"words\")\n",
    "                interpretability= flsa.get_interpretability_score()\n",
    "                coherence= flsa.get_coherence_score()\n",
    "                row= [\"FLSA, BilderClean\", topicnumberflsa[k], interpretability,]\n",
    "                writer.writerow(row)\n",
    "                writer.writerow(topic)\n",
    "                k +=1 \n",
    "            k=0\n",
    "            flsaw = FLSA_W(input_file= data, num_topics=50, num_words=20, word_weighting=\"entropy\")\n",
    "            pwgt, ptgd= flsaw.get_matrices()\n",
    "            topic= flsaw.show_topics(representation=\"words\")\n",
    "            interpretability= flsaw.get_interpretability_score()\n",
    "            row= [\"FLSAW, BilderClean, 50 topics\", interpretability]\n",
    "            writer.writerow(row)\n",
    "            writer.writerow(topic)\n",
    "        i +=1\n",
    "    except:\n",
    "        print(Liste[i])\n",
    "        i +=1"
   ]
  }
 ],
 "metadata": {
  "kernelspec": {
   "display_name": "Python 3",
   "language": "python",
   "name": "python3"
  },
  "language_info": {
   "codemirror_mode": {
    "name": "ipython",
    "version": 3
   },
   "file_extension": ".py",
   "mimetype": "text/x-python",
   "name": "python",
   "nbconvert_exporter": "python",
   "pygments_lexer": "ipython3",
   "version": "3.12.4"
  }
 },
 "nbformat": 4,
 "nbformat_minor": 2
}
